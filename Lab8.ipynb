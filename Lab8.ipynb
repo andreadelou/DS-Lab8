{
 "cells": [
  {
   "cell_type": "markdown",
   "metadata": {},
   "source": [
    "# Laboratorio 8\n",
    "\n",
    "Andrea Lam\n",
    "\n",
    "Christopher Garcia\n",
    "\n",
    "Maria Isabel Solano\n"
   ]
  },
  {
   "cell_type": "code",
   "execution_count": null,
   "metadata": {},
   "outputs": [],
   "source": []
  }
 ],
 "metadata": {
  "language_info": {
   "name": "python"
  }
 },
 "nbformat": 4,
 "nbformat_minor": 2
}
